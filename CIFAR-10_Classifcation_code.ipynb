{
  "cells": [
    {
      "cell_type": "markdown",
      "metadata": {
        "id": "view-in-github",
        "colab_type": "text"
      },
      "source": [
        "<a href=\"https://colab.research.google.com/github/yelangsung/CIFAR-10-Dataset-Classification/blob/main/CIFAR-10_Classifcation_code.ipynb\" target=\"_parent\"><img src=\"https://colab.research.google.com/assets/colab-badge.svg\" alt=\"Open In Colab\"/></a>"
      ]
    },
    {
      "cell_type": "markdown",
      "source": [
        "# ***Final Project***\n",
        "---\n"
      ],
      "metadata": {
        "id": "8H2mplXJU1d6"
      }
    },
    {
      "cell_type": "code",
      "execution_count": 1,
      "metadata": {
        "id": "Fr9zgCgCmdNq"
      },
      "outputs": [],
      "source": [
        "#set up\n",
        "\n",
        "import os, sys\n",
        "import torch\n",
        "from torch import nn\n",
        "from torch.nn import functional as F\n",
        "\n",
        "import torchvision\n",
        "import torchvision.transforms as transforms\n",
        "import torchvision.datasets as datasets\n",
        "\n",
        "import matplotlib.pyplot as plt\n",
        "import numpy as np"
      ]
    },
    {
      "cell_type": "code",
      "execution_count": 2,
      "metadata": {
        "colab": {
          "base_uri": "https://localhost:8080/"
        },
        "id": "V9pg5nB1pXEO",
        "outputId": "1a6acb76-e167-4a6d-bb5f-46185b2f05a0"
      },
      "outputs": [
        {
          "output_type": "stream",
          "name": "stdout",
          "text": [
            "cuda\n"
          ]
        }
      ],
      "source": [
        "# Set the device\n",
        "device = 'cuda' if torch.cuda.is_available() else 'cpu'\n",
        "print(device)"
      ]
    },
    {
      "cell_type": "markdown",
      "source": [
        "# **Data Loader**\n",
        "\n",
        "load the CIFAR-10 dataset using the library `torchvision.datasets`\n",
        "\n",
        "The details of CIFAR-10 dataset can be found in https://www.cs.toronto.edu/~kriz/cifar.html\n"
      ],
      "metadata": {
        "id": "q-G1AJVsbqwc"
      }
    },
    {
      "cell_type": "code",
      "execution_count": null,
      "metadata": {
        "colab": {
          "base_uri": "https://localhost:8080/"
        },
        "id": "HOEFPBpcmmHU",
        "outputId": "992a85c8-0d3e-40e1-9e64-221a20eef24f"
      },
      "outputs": [
        {
          "output_type": "stream",
          "name": "stdout",
          "text": [
            "Downloading https://www.cs.toronto.edu/~kriz/cifar-10-python.tar.gz to ./data/cifar-10-python.tar.gz\n"
          ]
        },
        {
          "output_type": "stream",
          "name": "stderr",
          "text": [
            "100%|██████████| 170498071/170498071 [00:08<00:00, 20136306.29it/s]\n"
          ]
        },
        {
          "output_type": "stream",
          "name": "stdout",
          "text": [
            "Extracting ./data/cifar-10-python.tar.gz to ./data\n",
            "Files already downloaded and verified\n"
          ]
        }
      ],
      "source": [
        "#data loader\n",
        "transforms_cifar10 = transforms.Compose([transforms.Resize((32, 32)),\n",
        "                                  transforms.RandomHorizontalFlip(p=0.5),\n",
        "                                  transforms.RandomAffine(degrees=(-5, 5), translate=(0.1, 0.1), scale=(0.9, 1.1)),\n",
        "                                  transforms.ToTensor(),\n",
        "                                  transforms.Normalize((0.5, 0.5, 0.5), (0.5, 0.5, 0.5))\n",
        "                                 ])\n",
        "# test set\n",
        "transforms_cifar10_test = transforms.Compose([transforms.Resize((32, 32)),\n",
        "                                              transforms.ToTensor(),\n",
        "                                              transforms.Normalize((0.5,0.5,0.5),(0.5,0.5,0.5))])\n",
        "\n",
        "\n",
        "\n",
        "# Train dataset\n",
        "trainset = datasets.CIFAR10(root='./data', train=True, download=True, transform=transforms_cifar10)\n",
        "trainloader = torch.utils.data.DataLoader(trainset, batch_size=4, shuffle=True, num_workers=2)\n",
        "\n",
        "# Test dataset\n",
        "testset = datasets.CIFAR10(root='./data', train=False, download=True, transform=transforms_cifar10_test)\n",
        "testloader = torch.utils.data.DataLoader(testset, batch_size=4, shuffle=False, num_workers=2)\n",
        "\n",
        "# Classes of CIFAR-10 dataset\n",
        "classes = (\"plane\", \"car\", \"bird\", \"cat\", \"deer\", \"dog\", \"frog\", \"horse\", \"ship\", \"truck\")"
      ]
    },
    {
      "cell_type": "code",
      "execution_count": null,
      "metadata": {
        "colab": {
          "base_uri": "https://localhost:8080/",
          "height": 211
        },
        "id": "d7JdtMAzoCac",
        "outputId": "8b3ec0bd-13b4-4f89-c548-2f748f8b6d1b"
      },
      "outputs": [
        {
          "output_type": "stream",
          "name": "stdout",
          "text": [
            " frog   dog horse   cat\n"
          ]
        },
        {
          "output_type": "display_data",
          "data": {
            "text/plain": [
              "<Figure size 640x480 with 1 Axes>"
            ],
            "image/png": "[encoded data removed]"
          },
          "metadata": {}
        }
      ],
      "source": [
        "# Examples of dataset\n",
        "\n",
        "def imshow(img):\n",
        "  img = img /2 + 0.5\n",
        "  npimg = img.numpy()\n",
        "  plt.imshow(np.transpose(npimg, (1, 2, 0)))\n",
        "\n",
        "dataiter = iter(trainloader)\n",
        "imgs, labels = next(dataiter)\n",
        "\n",
        "imshow(torchvision.utils.make_grid(imgs))\n",
        "print(' '.join('%5s' % classes[labels[j]] for j in range(4)))"
      ]
    },
    {
      "cell_type": "markdown",
      "source": [
        "# **CNN**\n",
        "\n",
        "Implement network using libraries."
      ],
      "metadata": {
        "id": "Y77itjthc5Xh"
      }
    },
    {
      "cell_type": "code",
      "execution_count": null,
      "metadata": {
        "id": "068wqyqdo_fc"
      },
      "outputs": [],
      "source": [
        "# VGG19 Model\n",
        "\n",
        "cfg = {\n",
        "    'VGG19': [64, 64, 'M', 128, 128, 'M', 256, 256, 256, 256, 'M', 512, 512, 512, 512, 'M', 512, 512, 512, 512, 'M'],\n",
        "}\n",
        "\n",
        "\n",
        "class VGG19(nn.Module):\n",
        "    def __init__(self):\n",
        "        super(VGG19, self).__init__()\n",
        "        self.features = self.make_layers(cfg['VGG19'])\n",
        "        self.classifier = nn.Linear(512, 10)\n",
        "\n",
        "    def forward(self, x):\n",
        "        out = self.features(x)\n",
        "        out = out.view(out.size(0), -1)\n",
        "        out = self.classifier(out)\n",
        "        return out\n",
        "\n",
        "    def make_layers(self, cfg):\n",
        "        layers = []\n",
        "        in_channels = 3\n",
        "        for x in cfg:\n",
        "            if x == 'M':\n",
        "                layers += [nn.MaxPool2d(kernel_size=2, stride=2)]\n",
        "            else:\n",
        "                layers += [nn.Conv2d(in_channels, x, kernel_size=3, padding=1),\n",
        "                           nn.BatchNorm2d(x),\n",
        "                           nn.ReLU(inplace=True)]\n",
        "                in_channels = x\n",
        "        layers += [nn.AvgPool2d(kernel_size=1, stride=1)]\n",
        "        return nn.Sequential(*layers)\n",
        "\n",
        "net = VGG19().to(device)\n"
      ]
    },
    {
      "cell_type": "markdown",
      "source": [
        "# **Loss function and optimizer**\n",
        "\n",
        "Set the **loss function and optimizer** for training CNN.\n"
      ],
      "metadata": {
        "id": "SXLnGlLgdyZ2"
      }
    },
    {
      "cell_type": "code",
      "execution_count": null,
      "metadata": {
        "id": "oB0f6C2npeoj"
      },
      "outputs": [],
      "source": [
        "# Loss function and optimizer\n",
        "loss_fun = nn.CrossEntropyLoss()\n",
        "optimizer = torch.optim.SGD(net.parameters(), lr = 0.0001, momentum=0.9)\n",
        "scheduler = torch.optim.lr_scheduler.StepLR(optimizer, step_size = 8, gamma=0.1)"
      ]
    },
    {
      "cell_type": "markdown",
      "source": [
        "# **Train the network**\n",
        "\n",
        "Train network using the loss function and optimizer."
      ],
      "metadata": {
        "id": "DInMRCnReWno"
      }
    },
    {
      "cell_type": "code",
      "source": [
        "path='/path/to/checkpoints/my_model_check.pt'\n",
        "\n",
        "class EarlyStopping:\n",
        "    \"\"\"주어진 patience 이후로 validation loss가 개선되지 않으면 학습을 조기 중지\"\"\"\n",
        "    def __init__(self, patience=15, verbose=False, delta=0,path=path):\n",
        "\n",
        "        self.patience = patience #기다리는 시간, Default : 15\n",
        "        self.verbose = verbose #True로 설정하면 각 개선 사항에 대한 메시지 출력, Default : False\n",
        "        self.counter = 0\n",
        "        self.best_score = None\n",
        "        self.early_stop = False\n",
        "        self.val_acc_max = np.Inf\n",
        "        self.delta = delta #개선되었다고 인정되는 최소 변화량을 나타내는 변수, Default : 0\n",
        "        self.path = path\n",
        "\n",
        "       # Create the parent directory if it does not exist\n",
        "        os.makedirs(os.path.dirname(self.path), exist_ok=True)\n",
        "\n",
        "    def __call__(self, val_acc, model):\n",
        "\n",
        "        score = val_acc\n",
        "\n",
        "        if self.best_score is None:\n",
        "            self.best_score = score #self.best_score 에 score 를 저장, 모델 저장\n",
        "            self.save_checkpoint(val_acc, model)\n",
        "        elif score < self.best_score + self.delta: #score가 self.best_score + self.delta 보다 작으면 self.counter 증가\n",
        "            self.counter += 1\n",
        "            print(f'EarlyStopping counter: {self.counter} out of {self.patience}')\n",
        "            if self.counter >= self.patience: #self.early_stop을 True 로 설정, 학습 조기 중지\n",
        "                self.early_stop = True\n",
        "        else: #score 가 self.best_score + self.delta 보다 크면\n",
        "            self.best_score = score #self.best_score 업데이트, 모델 저장\n",
        "            self.save_checkpoint(val_acc, model)\n",
        "            self.counter = 0 #self.counter 0으로 초기화\n",
        "\n",
        "    def save_checkpoint(self, val_acc, model):\n",
        "        if self.verbose:\n",
        "            print(f'Accuracy improve ({self.val_acc_max:.6f} --> {val_acc:.6f}).Saving model...')\n",
        "        torch.save(model.state_dict(),self.path) # torch.save(model, self.path)\n",
        "        self.val_acc_max = val_acc"
      ],
      "metadata": {
        "id": "wlcVaR3Vi2fk"
      },
      "execution_count": null,
      "outputs": []
    },
    {
      "cell_type": "code",
      "source": [
        "#Train the model\n",
        "epochs = 30\n",
        "\n",
        "#running_loss = loss_tmp\n",
        "total = 0\n",
        "learning_rate = 0.0001\n",
        "weight_decay = 0.001\n",
        "\n",
        "train_losses = []\n",
        "valid_losses = []\n",
        "avg_train_losses = []\n",
        "avg_valid_losses = []\n",
        "loss_hist, acc_hist = [], []\n",
        "loss_hist_val, acc_hist_val = [], [] #plot 위한 dictionary 정의\n",
        "\n",
        "#early stop the network\n",
        "early_stopping = EarlyStopping(patience = 15, verbose = True)\n",
        "\n",
        "for epoch in range(epochs):\n",
        "  net.train()\n",
        "\n",
        "  correct1 = 0  # 모델이 정확하게 예측한 샘플의 수\n",
        "  running_loss = 0.0 # 전체 epoch의 loss 총합.\n",
        "\n",
        "  loss_tmp = 0.0\n",
        "  epoch_loss = 0.0\n",
        "\n",
        "  for i, data in enumerate(trainloader, start=0):\n",
        "\n",
        "    # Load the data\n",
        "    inputs, labels = data\n",
        "    inputs = inputs.to(device)\n",
        "    labels = labels.to(device)\n",
        "\n",
        "    # Estimate the output using the network\n",
        "    outputs = net(inputs)\n",
        "    # Calculate the loss between the output of the network and label\n",
        "    loss = loss_fun(outputs, labels)\n",
        "\n",
        "    # Optimize the network\n",
        "    optimizer.zero_grad()\n",
        "    loss.backward()\n",
        "    optimizer.step()\n",
        "\n",
        "    loss_tmp += loss.data\n",
        "    epoch_loss += loss.data\n",
        "    running_loss += loss.item()\n",
        "\n",
        "    # compute training statistics\n",
        "    _, predicted = torch.max(outputs, 1)\n",
        "    correct1 += (predicted == labels).sum().item()\n",
        "\n",
        "    if i % 5000 == 4999:    # Print loss every 5000 mini-batches\n",
        "        print('[Epoch - %d, Iteration - %5d] Loss: %.3f' %\n",
        "              (epoch + 1, i + 1, loss_tmp / (i+1)))\n",
        "        loss_tmp = 0.0\n",
        "\n",
        "  avg_loss = running_loss / len(trainset) # 전체 epoch의 loss 평균\n",
        "  avg_acc = correct1 / len(trainset)  # 전체 epoch의 loss accuracy 평균.\n",
        "  loss_hist.append(avg_loss)\n",
        "  acc_hist.append(avg_acc)\n",
        "\n",
        "  net.eval() # added for 추론.\n",
        "    # 한 번 epoch할 때마다 test. computation memory saving.\n",
        "  with torch.no_grad():\n",
        "    loss_val = 0.0\n",
        "    correct2 = 0 #initialize\n",
        "    for data in testloader:\n",
        "      # Load the data\n",
        "      inputs_test, labels_test = data\n",
        "      inputs_test = inputs_test.to(device)\n",
        "      labels_test = labels_test.to(device)\n",
        "\n",
        "      # Estimate the output using the trained network\n",
        "      outputs_test = net(inputs_test)\n",
        "      loss = loss_fun(outputs_test, labels_test)\n",
        "      _, predicted = torch.max(outputs_test.data, 1)\n",
        "      loss_val += loss.item()\n",
        "      valid_losses.append(loss.item())\n",
        "\n",
        "      # Calculate the accuracy\n",
        "      total += labels_test.size(0)\n",
        "      correct2 += (predicted == labels_test).sum().item() # .item\n",
        "\n",
        "    avg_loss_val = loss_val / len(testset)\n",
        "    avg_acc_val = correct2 / len(testset)\n",
        "    loss_hist_val.append(avg_loss_val)\n",
        "    acc_hist_val.append(avg_acc_val)\n",
        "\n",
        "  net.train()\n",
        "  # Update the learning rate according to the learnig rate scheduler\n",
        "  if scheduler:\n",
        "    scheduler.step()\n",
        "\n",
        "  print('[Epoch - %d] Loss: %.3f average loss: %.5f accuracy: %.4f val loss: %.5f val accuracy: %.4f' %(epoch + 1, epoch_loss / (i+1), avg_loss, avg_acc, avg_loss_val, avg_acc_val))\n",
        "\n",
        "    # Print the epoch loss + early stop\n",
        "  early_stopping(avg_acc_val, net)\n",
        "\n",
        "  if early_stopping.early_stop:\n",
        "      print(\"Early stopping\")\n",
        "      break\n",
        "\n",
        "print('Finished Training')"
      ],
      "metadata": {
        "id": "EDhQmMsJVUPU",
        "colab": {
          "base_uri": "https://localhost:8080/"
        },
        "outputId": "180e131d-320a-4497-efc0-0b74341d4198"
      },
      "execution_count": null,
      "outputs": [
        {
          "output_type": "stream",
          "name": "stdout",
          "text": [
            "[Epoch - 1, Iteration -  5000] Loss: 0.986\n",
            "[Epoch - 1, Iteration - 10000] Loss: 0.463\n",
            "[Epoch - 1] Loss: 0.944 average loss: 0.23595 accuracy: 0.6731 val loss: 0.18557 val accuracy: 0.7481\n",
            "Accuracy improve (inf --> 0.748100).Saving model...\n",
            "[Epoch - 2, Iteration -  5000] Loss: 0.837\n",
            "[Epoch - 2, Iteration - 10000] Loss: 0.405\n",
            "[Epoch - 2] Loss: 0.819 average loss: 0.20479 accuracy: 0.7198 val loss: 0.16291 val accuracy: 0.7752\n",
            "Accuracy improve (0.748100 --> 0.775200).Saving model...\n",
            "[Epoch - 3, Iteration -  5000] Loss: 0.745\n",
            "[Epoch - 3, Iteration - 10000] Loss: 0.361\n",
            "[Epoch - 3] Loss: 0.730 average loss: 0.18259 accuracy: 0.7508 val loss: 0.16835 val accuracy: 0.7722\n",
            "EarlyStopping counter: 1 out of 15\n",
            "[Epoch - 4, Iteration -  5000] Loss: 0.677\n",
            "[Epoch - 4, Iteration - 10000] Loss: 0.326\n",
            "[Epoch - 4] Loss: 0.665 average loss: 0.16615 accuracy: 0.7728 val loss: 0.14799 val accuracy: 0.8033\n",
            "Accuracy improve (0.775200 --> 0.803300).Saving model...\n",
            "[Epoch - 5, Iteration -  5000] Loss: 0.617\n"
          ]
        }
      ]
    },
    {
      "cell_type": "markdown",
      "source": [
        "# **Test the network**\n",
        "\n",
        "Test the trained network using the testset.\n"
      ],
      "metadata": {
        "id": "CgDA6_LlfNhE"
      }
    },
    {
      "cell_type": "code",
      "execution_count": null,
      "metadata": {
        "id": "fNfptwqLqpdA"
      },
      "outputs": [],
      "source": [
        "# Test the trained model with sample\n",
        "\n",
        "dataiter_test = iter(testloader)\n",
        "img_test, labels_test = next(dataiter_test)\n",
        "\n",
        "imshow(torchvision.utils.make_grid(img_test))\n",
        "print('GroundTruth: ', ' '.join('%5s' % classes[labels_test[j]] for j in range(4)))\n",
        "\n",
        "img_test = img_test.to(device)\n",
        "labels_test = labels_test.to(device)\n",
        "\n",
        "# Prediction\n",
        "outputs_test = net(img_test)\n",
        "_, predicted = torch.max(outputs_test.data, 1)\n",
        "print('Predicted: ', ' '.join('%5s' % classes[predicted[j]] for j in range(4)))"
      ]
    },
    {
      "cell_type": "code",
      "execution_count": null,
      "metadata": {
        "id": "DNrXRT1NrJft"
      },
      "outputs": [],
      "source": [
        "# Test the trained model with overall test dataset\n",
        "\n",
        "correct = 0\n",
        "total = 0\n",
        "net.load_state_dict(torch.load('/path/to/checkpoints/my_model_check.pt'))\n",
        "\n",
        "with torch.no_grad():\n",
        "  net.eval() ##we do not use dropout at test time!\n",
        "  for data in testloader:\n",
        "    # Load the data\n",
        "    inputs_test, labels_test = data\n",
        "    inputs_test = inputs_test.to(device)\n",
        "    labels_test = labels_test.to(device)\n",
        "\n",
        "    # Estimate the output using the trained network\n",
        "    outputs_test = net(inputs_test)\n",
        "    _, predicted = torch.max(outputs_test.data, 1)\n",
        "\n",
        "    # Calculate the accuracy\n",
        "    total += labels_test.size(0)\n",
        "    correct += (predicted == labels_test).sum()\n"
      ]
    },
    {
      "cell_type": "code",
      "source": [
        "# Visualizing\n",
        "\n",
        "import matplotlib.pyplot as plt\n",
        "\n",
        "legend = ['Train', 'Validation']\n",
        "plt.plot(loss_hist)\n",
        "plt.plot(loss_hist_val)\n",
        "plt.title('Model Loss')\n",
        "plt.xlabel('Epochs')\n",
        "plt.ylabel('Loss')\n",
        "plt.legend(legend, loc='upper left')\n",
        "plt.show()\n",
        "\n",
        "legend = ['Train', 'Validation']\n",
        "plt.plot(acc_hist)\n",
        "plt.plot(acc_hist_val)\n",
        "plt.title('Model Accuracy')\n",
        "plt.xlabel('Epochs')\n",
        "plt.ylabel('Accuracy')\n",
        "plt.legend(legend, loc='upper left')\n",
        "plt.show()"
      ],
      "metadata": {
        "id": "bkW7nt8F0ouA"
      },
      "execution_count": null,
      "outputs": []
    },
    {
      "cell_type": "code",
      "source": [],
      "metadata": {
        "id": "MOm1rMeaFmWl"
      },
      "execution_count": null,
      "outputs": []
    }
  ],
  "metadata": {
    "colab": {
      "provenance": [],
      "gpuType": "T4",
      "include_colab_link": true
    },
    "gpuClass": "standard",
    "kernelspec": {
      "display_name": "Python 3",
      "name": "python3"
    },
    "language_info": {
      "name": "python"
    },
    "accelerator": "GPU"
  },
  "nbformat": 4,
  "nbformat_minor": 0
}